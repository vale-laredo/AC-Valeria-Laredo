{
 "cells": [
  {
   "cell_type": "markdown",
   "id": "28a8e145",
   "metadata": {},
   "source": [
    "# Torres de Hanoi "
   ]
  },
  {
   "cell_type": "markdown",
   "id": "4f80919d",
   "metadata": {},
   "source": [
    "El juego de las Torres de Hanoi consiste en tres estacas (izquierda, central y derecha) y n discos redondos de diferentes radios (perforados de forma que puedan encajar en las estacas). Inicialmente la estaca de la izquierda tiene todos los discos en orden creciente de tamaño de abajo hacia arriba.\n",
    "\n",
    "El objetivo del juego es mover todos los discos a la estaca de la derecha, usando la estaca central. En cada movimiento se desplaza el disco del extremo superior de una estaca a la otra, con la restricción de que no está permitido que un disco de radio mayor quede encima de uno de radio menor.\n",
    "\n",
    "\n",
    "Tu tarea es encontrar la secuencia de pasos que minimice el número de movimientos necesarios para cumplir el objetivo del juego."
   ]
  },
  {
   "cell_type": "markdown",
   "id": "af139272",
   "metadata": {},
   "source": [
    "**1. Diseña un algoritmo que resuelva este problema y justifica (no es necesario escribir una demostración) por qué devuelve el número mínimo de movimientos. Represéntalo en pseudocódigo o diagrama de flujo**"
   ]
  },
  {
   "cell_type": "markdown",
   "id": "926345fe",
   "metadata": {},
   "source": [
    "## Justificación"
   ]
  },
  {
   "cell_type": "markdown",
   "id": "508c9d41",
   "metadata": {},
   "source": [
    "### 1 disco"
   ]
  },
  {
   "cell_type": "markdown",
   "id": "072fa149",
   "metadata": {},
   "source": [
    "Sí solo tenemos 1 solo disco es fácil notar que solo debemos pasar de la estaca izquierda a la derecha, y terminamos."
   ]
  },
  {
   "cell_type": "markdown",
   "id": "a68f5957",
   "metadata": {},
   "source": [
    "<img src=\"Hanoi 1 disco.jpg\">"
   ]
  },
  {
   "cell_type": "markdown",
   "id": "dde50b95",
   "metadata": {},
   "source": [
    "### 2 discos"
   ]
  },
  {
   "cell_type": "markdown",
   "id": "b35e7eed",
   "metadata": {},
   "source": [
    "Si tenemos 2 discos usaremos 3 pasos.\n",
    "\n",
    "**Paso 1:** Mover el disco de $\\color{mediumorchid}{\\textbf {encima}}$ del el disco del $\\color{lightskyblue}{\\textbf {fondo}}$"
   ]
  },
  {
   "cell_type": "markdown",
   "id": "ada5360e",
   "metadata": {},
   "source": [
    "**Paso 2:** Mover el disco del $\\color{lightskyblue}{\\textbf {fondo}}$ a la estaca derecha."
   ]
  },
  {
   "cell_type": "markdown",
   "id": "b5fb6c8f",
   "metadata": {},
   "source": [
    "**Paso 3:** Mover el disco de $\\color{mediumorchid}{\\textbf {encima}}$ arriba del disco del $\\color{lightskyblue}{\\textbf {fondo}}$"
   ]
  },
  {
   "cell_type": "markdown",
   "id": "71f96095",
   "metadata": {},
   "source": [
    "<img src=\"Hanoi 2 discos.jpg\">"
   ]
  },
  {
   "cell_type": "markdown",
   "id": "b6d1e751",
   "metadata": {},
   "source": [
    "### 3 discos"
   ]
  },
  {
   "cell_type": "markdown",
   "id": "b011bed7",
   "metadata": {},
   "source": [
    "El juego se puede simplificar al mínimo tan solo usando estos tres pasos, veamos que pasa con tres discos.\n",
    "\n",
    "Para lograrlo dividamos los discos en dos grupos: discos de $\\color{mediumorchid}{\\textbf {encima}}$ y discos de  $\\color{lightskyblue}{\\textbf {fondo}}$\n",
    "\n",
    "El **paso 1** es mover el disco de $\\color{mediumorchid}{\\textbf {encima}}$ del el disco del $\\color{lightskyblue}{\\textbf {fondo}}$, sin embargo tenemos dos discos que son del grupo de encima, por lo que tendremos que realizar tres pasos dentro del paso 1 para lograrlo.\n",
    "\n",
    "**1.a.** Movemos $\\color{hotpink}{\\textbf {1}}$ a la estaca 3\n",
    "\n",
    "**1.b.** Movemos $\\color{mediumorchid}{\\textbf {2}}$ a la estaca 2\n",
    "\n",
    "**1.c.** Movemos $\\color{hotpink}{\\textbf {1}}$ a la estaca 2"
   ]
  },
  {
   "cell_type": "markdown",
   "id": "2f47944e",
   "metadata": {},
   "source": [
    "**Paso 2** movemos el disco del $\\color{lightskyblue}{\\textbf {fondo}}$"
   ]
  },
  {
   "cell_type": "markdown",
   "id": "ced4b6f3",
   "metadata": {},
   "source": [
    "El **paso 3** es mover el disco de $\\color{mediumorchid}{\\textbf {encima}}$ arriba del disco de  $\\color{lightskyblue}{\\textbf {fondo}}$ pero para lograrlo usaremos tres movimientos mas.\n",
    "\n",
    "**1.a.** Movemos $\\color{hotpink}{\\textbf {1}}$ a la estaca 1\n",
    "\n",
    "**1.b.** Movemos $\\color{mediumorchid}{\\textbf {2}}$ a la estaca 3\n",
    "\n",
    "**1.c.** Movemos $\\color{hotpink}{\\textbf {1}}$ a la estaca 3"
   ]
  },
  {
   "cell_type": "markdown",
   "id": "1986a883",
   "metadata": {},
   "source": [
    "<img src=\"Hanoi 3 discos.jpg\">"
   ]
  },
  {
   "cell_type": "markdown",
   "id": "ecf67067",
   "metadata": {},
   "source": [
    "### N discos "
   ]
  },
  {
   "cell_type": "markdown",
   "id": "fe8a9e5b",
   "metadata": {},
   "source": [
    "Por lo que podemos observar para poder mover dos discos debemos realizar el único paso de 1 disco que es mover el disco del fondo y además mover el disco de arriba. \n",
    "\n",
    "Para tres discos para poder mover el disco de arriba, debemos realizar los tres pasos del caso de 2 discos, despues debemos hacer el unico paso del caso de 1 disco, y para regresar debemos añadir otros tres pasos.\n",
    "\n",
    "Por lo que al añadir discos tendremos que volver a realizar los pasos del casos con menos discos:\n",
    "\n",
    "1 disco: 1 paso\n",
    "\n",
    "2 discos: 1 paso + 2 pasos = 3 pasos \n",
    "\n",
    "3 discos: 3 pasos + 1 paso + 3 pasos = 7 pasos \n",
    "\n",
    "4 discos: 7 pasos + 1 paso + 7 pasos = 15 pasos \n",
    "\n",
    ".\n",
    "\n",
    ".\n",
    "\n",
    ".\n",
    "\n",
    "n discos: pasos de n-1 + 1 paso + pasos de n-1 = $2^n -1$ pasos"
   ]
  },
  {
   "cell_type": "markdown",
   "id": "db6ecce7",
   "metadata": {},
   "source": [
    "## Pseudocódigo"
   ]
  },
  {
   "cell_type": "code",
   "execution_count": null,
   "id": "efad0857",
   "metadata": {},
   "outputs": [],
   "source": [
    "Hanoi(discos, izquierda, medio , derecha)          #Primero debemos definir nuestras variables, que es el número de discos y las estacas\n",
    "\n",
    "If\n",
    "discos es iguan a 1, \n",
    "Then\n",
    "      movemos el disco del origen a la estaca derecha\n",
    "   Else\n",
    "      Hanoi (discos -1, izquierda, derecha, medio) # paso 1\n",
    "      mueve disco de izquierda a derecha # paso 2\n",
    "      Hanoi (discos - 1, medio, izquierda, derecha)   #paso 3\n",
    "   End\n",
    "   \n",
    "End"
   ]
  },
  {
   "cell_type": "markdown",
   "id": "41d458ea",
   "metadata": {},
   "source": [
    "**2. Implementa el algoritmo en Julia. Tu programa será aceptado si devuelve las respuestas correctas para cada n, con 1 ≤ n ≤ 16.**"
   ]
  },
  {
   "cell_type": "markdown",
   "id": "21746cbe",
   "metadata": {},
   "source": [
    "## Código"
   ]
  },
  {
   "cell_type": "code",
   "execution_count": 57,
   "id": "6a2c512a",
   "metadata": {},
   "outputs": [
    {
     "data": {
      "text/plain": [
       "1"
      ]
     },
     "execution_count": 57,
     "metadata": {},
     "output_type": "execute_result"
    }
   ],
   "source": [
    "izquierda= 1"
   ]
  },
  {
   "cell_type": "code",
   "execution_count": 58,
   "id": "fcc59386",
   "metadata": {},
   "outputs": [
    {
     "data": {
      "text/plain": [
       "2"
      ]
     },
     "execution_count": 58,
     "metadata": {},
     "output_type": "execute_result"
    }
   ],
   "source": [
    "medio= 2"
   ]
  },
  {
   "cell_type": "code",
   "execution_count": 59,
   "id": "9de5d22a",
   "metadata": {},
   "outputs": [
    {
     "data": {
      "text/plain": [
       "3"
      ]
     },
     "execution_count": 59,
     "metadata": {},
     "output_type": "execute_result"
    }
   ],
   "source": [
    "derecha= 3"
   ]
  },
  {
   "cell_type": "code",
   "execution_count": 91,
   "id": "31b6d8d9",
   "metadata": {},
   "outputs": [
    {
     "data": {
      "text/plain": [
       "Hanoi (generic function with 1 method)"
      ]
     },
     "execution_count": 91,
     "metadata": {},
     "output_type": "execute_result"
    }
   ],
   "source": [
    "function Hanoi(discos, izquierda, medio, derecha) \n",
    "    if discos == 1 \n",
    "        println(\"Mueve el disco de $izquierda a $derecha\")\n",
    "    else \n",
    "        Hanoi(discos -1, izquierda, derecha, medio)\n",
    "        Hanoi(1,izquierda, medio, derecha)\n",
    "        Hanoi(discos -1, medio, izquierda, derecha)\n",
    "    end\n",
    "end"
   ]
  },
  {
   "cell_type": "code",
   "execution_count": 105,
   "id": "152b1889",
   "metadata": {},
   "outputs": [
    {
     "name": "stdout",
     "output_type": "stream",
     "text": [
      "Mueve el disco de 1 a 3\n",
      "Mueve el disco de 1 a 2\n",
      "Mueve el disco de 3 a 2\n",
      "Mueve el disco de 1 a 3\n",
      "Mueve el disco de 2 a 1\n",
      "Mueve el disco de 2 a 3\n",
      "Mueve el disco de 1 a 3\n"
     ]
    }
   ],
   "source": [
    "Hanoi(3,izquierda,medio,derecha)"
   ]
  }
 ],
 "metadata": {
  "kernelspec": {
   "display_name": "Julia 1.8.5",
   "language": "julia",
   "name": "julia-1.8"
  },
  "language_info": {
   "file_extension": ".jl",
   "mimetype": "application/julia",
   "name": "julia",
   "version": "1.8.5"
  }
 },
 "nbformat": 4,
 "nbformat_minor": 5
}
