{
 "cells": [
  {
   "cell_type": "markdown",
   "id": "9d4fe60e",
   "metadata": {},
   "source": [
    "# Rana Saltarina"
   ]
  },
  {
   "cell_type": "markdown",
   "id": "9f1fa0e4",
   "metadata": {},
   "source": [
    "Una rana saltarina necesita atravesar un río para llegar a su hogar. La rana inicia en la orilla izquierda del río, y su camino consiste en una secuencia de rocas etiquetadas con los números 1, 2, 3, 4 . . . , n − 1; hasta la orilla derecha del río, etiquetada con n. Todas las rocas adyacentes está n espaciadas en una unidad de distancia, al igual que la roca n − 1 de la orilla derecha y la orilla izquierda de la roca 1. Es decir, a la rana le toma n saltos de una unidad llegar hasta la otra orilla, aunque su recorrido está sujeto a las siguientes restricciones:\n",
    "La rana solo puede dar saltos de longitud 1 o 2 unidades de longitud.\n"
   ]
  },
  {
   "cell_type": "markdown",
   "id": "17b70928",
   "metadata": {},
   "source": [
    "- La rana solo puede dar saltos de longitud 1 o 2 unidades de longitud.\n",
    "- La rana no puede retroceder.\n",
    "\n",
    "¿De cuántas formas distintas puede la rana saltarina atravesar el río dado un valor de n?"
   ]
  },
  {
   "cell_type": "markdown",
   "id": "0e077546",
   "metadata": {},
   "source": [
    "**1. Diseña un algoritmo que resuelva este problema y represéntalo en pseudocódigo o diagrama de flujo.**"
   ]
  },
  {
   "cell_type": "markdown",
   "id": "a934bed8",
   "metadata": {},
   "source": [
    "Para n = 1, hay una sola manera de llegar a la meta, que es dando un salto de tamaño 1.\n",
    "\n",
    "\n",
    "Para n = 2, hay dos maneras de llegar a la meta: o bien se dan dos saltos de tamaño 1, o bien se da un salto de tamaño 2.\n",
    "\n",
    "\n",
    "Para n = 3, podemos llegar a la meta desde la posición n-1 (2 formas) dando un salto de tamaño 1, o desde la posición n-2 (1 forma) dando un salto de tamaño 2. Entonces el número total de maneras de llegar a la posición n = 3 es igual a la suma de las maneras de llegar a las posiciones n-1 y n-2. En este caso, hay tres maneras de llegar a la posición 3: \n",
    "1. 1 salto + 1 salto + 1 salto\n",
    "2. 1 salto + 2 saltos \n",
    "3. 2 saltos + 1 salto.\n",
    "\n",
    "\n",
    "De manera similar, para n = 4 podemos llegar a la meta desde la posición n-1 (3 formas) dando un salto de tamaño 1, o desde la posición n-2 (2 formas) dando un salto de tamaño 2. En este caso, hay cinco maneras de llegar a la posición 4:\n",
    "1. 1 salto + 1 salto + 1 salto + 1 salto\n",
    "2. 1 salto + 1 salto + 2 saltos\n",
    "3. 1 salto + 2 saltos + 1 salto\n",
    "4. 2 saltos + 1 salto + 1 salto\n",
    "5. 2 saltos + 2 saltos.\n",
    "\n",
    "\n",
    "Entonces para cualquier n mayor que 2, podemos llegar a la posición n desde la posición n-1 dando un salto de tamaño 1, o desde la posición n-2 dando un salto de tamaño 2. Entonces el número total de maneras de llegar a la posición n es igual a la suma de las maneras de llegar a las posiciones n-1 y n-2."
   ]
  },
  {
   "cell_type": "markdown",
   "id": "22b9f0a3",
   "metadata": {},
   "source": [
    "<img src=\"Diagrama de flujo ranas.jpg\">"
   ]
  },
  {
   "cell_type": "markdown",
   "id": "d2485aa4",
   "metadata": {},
   "source": [
    "![](../misc/diagrama_de_flujo.png)"
   ]
  },
  {
   "cell_type": "markdown",
   "id": "eea2088a",
   "metadata": {},
   "source": [
    "**2. Implementa este algoritmo en Julia. La idea es que tu programa reciba un entero n (el tamaño del río), y devuelva N, el número de formas distintas que la rana puede cruzar**"
   ]
  },
  {
   "cell_type": "code",
   "execution_count": 77,
   "id": "704c1cd4",
   "metadata": {},
   "outputs": [
    {
     "data": {
      "text/plain": [
       "numero_de_combinaciones (generic function with 2 methods)"
      ]
     },
     "execution_count": 77,
     "metadata": {},
     "output_type": "execute_result"
    }
   ],
   "source": [
    "function numero_de_combinaciones(n::Int64)\n",
    "    if n == 1 || n == 2                       #Si n es 1 o 2 ese es el número de combinaciones\n",
    "        return n\n",
    "    else\n",
    "        return numero_de_combinaciones(n-1) + numero_de_combinaciones(n-2)  #Si n es mayor que 2 f(n)=f(n-1)+f(n-2)\n",
    "    end\n",
    "end\n"
   ]
  },
  {
   "cell_type": "code",
   "execution_count": 96,
   "id": "95e88e17",
   "metadata": {},
   "outputs": [
    {
     "data": {
      "text/plain": [
       "20365011074"
      ]
     },
     "execution_count": 96,
     "metadata": {},
     "output_type": "execute_result"
    }
   ],
   "source": [
    "numero_de_combinaciones(50)"
   ]
  },
  {
   "cell_type": "code",
   "execution_count": 81,
   "id": "72771ddf",
   "metadata": {},
   "outputs": [
    {
     "data": {
      "text/plain": [
       "cuenta_maneras_salto (generic function with 1 method)"
      ]
     },
     "execution_count": 81,
     "metadata": {},
     "output_type": "execute_result"
    }
   ],
   "source": [
    "function cuenta_maneras_salto(n::Int64)\n",
    "    if n <= 0\n",
    "        return 0, []\n",
    "    elseif n == 1\n",
    "        return 1, [\"1 salto\"]\n",
    "    elseif n == 2\n",
    "        return 2, [\"1 salto + 1 salto\", \"2 saltos\"]\n",
    "    else\n",
    "        cuenta_n_1, maneras_n_1 = cuenta_maneras_salto(n-1)\n",
    "        cuenta_n_2, maneras_n_2 = cuenta_maneras_salto(n-2)\n",
    "        cuenta = cuenta_n_1 + cuenta_n_2\n",
    "        maneras = [string(\"1 salto + \", manera) for manera in maneras_n_1] # forma \"1 paso + ...\"\n",
    "        append!(maneras, [\"2 saltos + \" * manera for manera in maneras_n_2]) # formas \"2 pasos + ...\"\n",
    "        return cuenta, maneras\n",
    "    end\n",
    "end"
   ]
  },
  {
   "cell_type": "code",
   "execution_count": 95,
   "id": "59b9b65e",
   "metadata": {},
   "outputs": [
    {
     "name": "stdout",
     "output_type": "stream",
     "text": [
      "3 combinaciones\n",
      "1 salto + 1 salto + 1 salto\n",
      "1 salto + 2 saltos\n",
      "2 saltos + 1 salto\n"
     ]
    }
   ],
   "source": [
    "cuenta, maneras = cuenta_maneras_salto(3)\n",
    "println(\"$cuenta combinaciones\")\n",
    "for manera in maneras\n",
    "    println(manera)\n",
    "end"
   ]
  },
  {
   "cell_type": "markdown",
   "id": "cbb43036",
   "metadata": {},
   "source": [
    "**3. Reflexiona sobre la complejidad temporal y espacial de tu algoritmo. ¿Cómo cambia el tiempo de ejecución de tu programa conforme crece n?, ¿cómo cambia el espacio ocupado en la memoria de la máquina conforme incrementa n?**"
   ]
  },
  {
   "cell_type": "markdown",
   "id": "ca62699a",
   "metadata": {},
   "source": [
    "Como el algoritmo se llama a sí mismo dos veces en cada iteración, y el número total de iteraciones es la suma de los dos llamados anteriores, esto hace que el tiempo crezca exponencialmente.Por lo que el tiempo aumenta muy rapido con el aumento de n.\n",
    "\n",
    "El espacio tambien crece exponecialmente porque igualmente se lleva el espacio de las dos iteraciones anteriores. Por lo que para números más grandes se necesita un mayor espacio "
   ]
  },
  {
   "cell_type": "markdown",
   "id": "309abb51",
   "metadata": {},
   "source": [
    "**4. Reflexiona sobre el valor máximo que puede tomar n de tal forma que no haya sobreflujo en tus resultados de N**"
   ]
  },
  {
   "cell_type": "markdown",
   "id": "13681296",
   "metadata": {},
   "source": [
    "Como estamos en Int64 será sobre flujo hasta que existan $2^{63} −1$ o 9,223,372,036,854,775,807. El algoritmo se comporta como una función de Fibonacci por lo que podemos usar la función para saber cuando llegaremos a esa combinación"
   ]
  },
  {
   "cell_type": "markdown",
   "id": "1f88a9f2",
   "metadata": {},
   "source": [
    "Podemos utilizar la fórmula aproximada de Binet para encontrar el valor de F(n):\n",
    "\n",
    "$$ F(n) = \\frac{1}{\\sqrt{5}} {( (\\frac{1+\\sqrt{5}}{2})^n - ((\\frac{1-\\sqrt{5}}{2})^n)}$$\n",
    "\n",
    "Si establecemos F(n) igual a 9,223,372,036,854,775,807 y despejamos n, obtenemos:\n",
    "\n",
    "sea $$\\phi=1 + \\frac{\\sqrt(5))}{2}$$\n",
    "\n",
    "$$n = \\frac{log((\\phi)*9,223,372,036,854,775,807*(\\sqrt{5})}{log(\\phi)}$$"
   ]
  },
  {
   "cell_type": "code",
   "execution_count": 103,
   "id": "8c17b991",
   "metadata": {},
   "outputs": [
    {
     "name": "stdout",
     "output_type": "stream",
     "text": [
      "El número máximo es: 93.0\n"
     ]
    }
   ],
   "source": [
    "phi = (1 + sqrt(5))/2\n",
    "n = ceil(log(phi*sqrt(5)*9223372036854775807)/log(phi))-1\n",
    "println(\"El número máximo es: \", n)"
   ]
  }
 ],
 "metadata": {
  "kernelspec": {
   "display_name": "Julia 1.8.5",
   "language": "julia",
   "name": "julia-1.8"
  },
  "language_info": {
   "file_extension": ".jl",
   "mimetype": "application/julia",
   "name": "julia",
   "version": "1.8.5"
  }
 },
 "nbformat": 4,
 "nbformat_minor": 5
}
