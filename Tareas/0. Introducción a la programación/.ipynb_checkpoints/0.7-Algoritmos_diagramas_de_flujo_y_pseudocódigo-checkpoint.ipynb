{
 "cells": [
  {
   "cell_type": "markdown",
   "id": "42e52522",
   "metadata": {},
   "source": [
    "# Algoritmos, diagramas de flujo y pseudocódigo\n",
    "\n",
    "En este _notebook_, aprenderemos qué es un **algoritmo** y veremos dos formas distintas pero complementarias de representarlos: a través de **diagramas de flujo** y de **pseudocódigo**."
   ]
  },
  {
   "cell_type": "markdown",
   "id": "af58b18a",
   "metadata": {},
   "source": [
    "## ¿Qué es un algoritmo?\n",
    "\n",
    "En este curso, emplearemos la palabra **algoritmo** para referirnos a un _algoritmo computacional_, el cual podemos definir de forma general como una _serie de pasos computacionales que transforman datos de **entrada** en datos de **salida**_.\n",
    "\n",
    "**Nota** Esta definición es similar a una vista anteriormente en el _notebook_ [`0.1-Qué_es_un_programa.ipynb`](./0.1-Qué_es_un_programa.ipynb):\n",
    "\n",
    "_Dentro del **paradigma imperativo de la programación**, definiremos a un **programa** como una serie de instrucciones que una computadora puede ejecutar o, en su defecto, interpretar._\n",
    "\n",
    "Sin embargo, vale la pena reparar en las diferencias:\n",
    "* mientras que un **algoritmo** siempre inicia tomando datos de **entrada** y termina devolviendo datos de **salida**, la definición de **programa** no hace referencia explícita a un punto de partida en específico, ni a uno de llegada;\n",
    "* mientras que la definición de **algoritmo** como una _serie de **pasos** computacionales que transforman datos..._ implica cierta continuidad en la forma en que los datos de **entrada** se transforman en los de **salida**, en la definición de **programa** no encontramos nada similar: basta con tener una _serie de **instrucciones**_ que sean apenas _ejecutables o interpretables_, sin mayores exigencias ni restricciones."
   ]
  },
  {
   "cell_type": "markdown",
   "id": "7c93cdc9",
   "metadata": {},
   "source": [
    "Una gran variedad de funcionalidades están implementadas mediante algoritmos, incluyendo:\n",
    "* análisis de datos,\n",
    "* [métodos numéricos](../3-Cómputo_científico/3.1-Métodos_numéricos.ipynb),\n",
    "* procesamiento de imágenes digitales,\n",
    "* servicios de internet,\n",
    "* sistemas de comercio,\n",
    "* herramientas de encriptación,\n",
    "* motores de búsqueda,\n",
    "* motores de recomendación,\n",
    "* conducción autónoma\n",
    "\n",
    "y muchas, pero **MUCHAS** más."
   ]
  },
  {
   "cell_type": "markdown",
   "id": "8413e347",
   "metadata": {},
   "source": [
    "### El problema de sorteo\n",
    "\n",
    "Para ver un ejemplo prototípico, consideremos el siguiente problema, conocido como el **problema de sorteo**:\n",
    "\n",
    "_Dada una secuencia finita de $n$ números $(a_1, a_2, \\dots, a_n)$, obten mediante permutaciones una secuencia $(a'_1, a'_2, \\dots, a'_n)$ tal que $a'_1\\leq a'_2\\leq\\dots\\leq a'_n$._\n",
    "\n",
    "Claramente, este problema se puede solucionar mediante un **algoritmo** con\n",
    "* **entrada** $(a_1, a_2, \\dots, a_n)$,\n",
    "* **salida** $(a'_1, a'_2, \\dots, a'_n)$, donde $a'_1\\leq a'_2\\leq\\dots\\leq a'_n$, y cuyos\n",
    "* **pasos** estén dados por _permutaciones_ en secuencias de números.\n",
    "\n",
    "Resulta que el _sorteo_ es una operación fundamental en el área de computación, pues muchos programas lo llevan a cabo como un paso intermedio, por lo que existe una gran variedad de **algoritmos de sorteo** que resuelven el problema anterior; varios de ellos se pueden visualizar [en este video](https://www.youtube.com/watch?v=BeoCbJPuvSE) (nótese que _no parten todos de una misma entrada_). Para leer un poco más sobre 16 algoritmos de sorteo específicos, te recomiendo [esta página web](https://www.sortvisualizer.com/) y, si quieres observar con más calma cómo actúan 6 algoritmos de sorteo diferentes, te recomiendo [este sitio interactivo](https://www.cs.usfca.edu/~galles/visualization/ComparisonSort.html). En cuanto a **cuál** algoritmo de sorteo **es mejor**, la respuesta dependerá de muchos factores: desde los más básicos, como la aplicación que se le quiera dar o la cantidad de números a ser sorteados, hasta los más técnicos, como el tipo de procesador o de dispositivo de memoria que se piense usar."
   ]
  },
  {
   "cell_type": "markdown",
   "id": "99622581",
   "metadata": {},
   "source": [
    "## ¿Por qué estudiar algoritmos?\n",
    "\n",
    "La mayoría de los problemas algorítmicos -esto es, problemas que ~~por lo menos sospechamos que~~ se pueden resolver mediante algoritmos- son motivados por aplicaciones prácticas, como algunas de las que enlistamos anteriormente, y tienen varios algoritmos candidatos a ser una solución -muchos de los cuales terminan no siéndolo. Encontrar uno que lo sea, o la \"mejor\" entre varias soluciones, puede ser una tarea bastante compleja.\n",
    "\n",
    "Aún así, la principal motivación para estudiar algoritmos es poder demostrar para un problema algorítmico dado que exista una solución **correcta** y -quizás igual de importante- **práctica** (es decir, que termine de ejecutarse en una cantidad aceptable de tiempo). Además, dadas las limitaciones físicas de las computadoras, que no pueden tener rapidez ni memoria infinita, al solucionar problemas de manera computacional el tiempo y el espacio (en memoria) se vuelven recursos _escasos_, por lo que es de suma importancia poder comparar algoritmos en cuanto a la eficiencia que presenten en el uso de estos dos recursos."
   ]
  },
  {
   "cell_type": "markdown",
   "id": "42fde6c4",
   "metadata": {},
   "source": [
    "## ¿Cómo podemos representar algoritmos?\n",
    "\n",
    "Volvamos al **problema de sorteo** y pensemos en una solución sencilla, dada por los siguientes pasos:\n",
    "1. Comparamos los primeros dos números de la secuencia. \n",
    "1. Si el número de la izquierda es mayor al de la derecha, los cambiamos de lugar; si no, no les hacemos nada.\n",
    "1. Comparamos los siguientes dos números de la secuencia y repetimos el paso 2.\n",
    "1. Repetimos el paso 3 hasta haber comparado los últimos dos elementos de la secuencia.\n",
    "1. Repetimos los pasos 1 a 4 hasta que la secuencia quede sorteada.\n",
    "\n",
    "El **algoritmo** que acabamos de describir es conocido como [_bubble sort_](https://www.sortvisualizer.com/bubblesort/) pues, al [observar este algoritmo \"en acción\"](https://www.cs.usfca.edu/~galles/visualization/ComparisonSort.html) en una gráfica de barras, las barras mayores se estabilizan más rápido que las menores, similar a cómo las burbujas más grandes llegan a la superficie más rápido que las chicas.\n",
    "\n",
    "Aunque no lo demostraremos aquí, intuitivamente podemos ver que este **algoritmo** constituye una **solución correcta** al **problema de sorteo**, por lo que lo usaremos como ejemplo en lo que resta del _notebook_."
   ]
  },
  {
   "cell_type": "markdown",
   "id": "8b112989",
   "metadata": {},
   "source": [
    "### Diagramas de flujo\n",
    "\n",
    "Recordemos que hemos definido a un **algoritmo** como una\n",
    "\n",
    "_serie de pasos computacionales que transforman datos de entrada en datos de salida_\n",
    "\n",
    "y que esta definición implica cierta _continuidad_ en las transformaciones de los datos. Por ende, podemos pensar en la manera en que un algoritmo procesa datos de entrada hasta convertirlos en datos de salida como una _cadena_ de procesos o un **flujo**.\n",
    "\n",
    "Los **diagramas de flujo** son una forma de **representar algoritmos diagramáticamente** y sirven para dilucidar cómo un algoritmo transforma los datos de entrada en los de salida _paso a paso_. Más aún, los **diagramas de flujo** también pueden ser de gran utilidad al **diseñar algoritmos**, en particular, sirviendo como un buen punto de partida.\n",
    "\n",
    "Por lo general, un **diagrama de flujo** se representa como una serie de **nodos**, que indican acciones, conectados por **flechas**, que indican el flujo; por ello, también son conocidos como [_gráficas de control de flujo_](https://www.geeksforgeeks.org/software-engineering-control-flow-graph-cfg/). "
   ]
  },
  {
   "cell_type": "markdown",
   "id": "ea370fa1",
   "metadata": {},
   "source": [
    "![](../misc/diagrama_de_flujo.png)\n",
    "\n",
    "**Figura 1** Diagrama de flujo que representa un proceso para usar un dispositivo electrónico.\n",
    "\n",
    "Puedes encontrar una convención sobre símbolos usados comunmente para crear diagramas de flujo [aquí](https://en.wikipedia.org/wiki/Flowchart#Common_symbols)."
   ]
  },
  {
   "cell_type": "markdown",
   "id": "769393ea",
   "metadata": {},
   "source": [
    "**Ejercicio** Crea un diagrama de flujo para el algoritmo de sorteo de burbuja."
   ]
  },
  {
   "cell_type": "markdown",
   "id": "c9afc36d",
   "metadata": {},
   "source": [
    "### Pseudocódigo (revisitado)\n",
    "\n",
    "Recordemos que en el _notebook_ [`0.1-Qué_es_un_programa.ipynb`](./0.1-Qué_es_un_programa.ipynb) hicimos una distinción entre _código_ y _pseudocódigo_. La diferencia crucial es que, a pesar de que ambos describen _programas_ (computacionales, en el sentido imperativo), el **pseudocódigo** no está escrito en ningún lenguaje de programación particular sino que, básicamente, es un **código en potencia**."
   ]
  },
  {
   "cell_type": "markdown",
   "id": "51b30367",
   "metadata": {},
   "source": [
    "#### Sorteo de burbuja (_Bubble sort_)\n",
    "\n",
    "A continuación, representaremos el algoritmo de sorteo de burbuja mediante pseudocódigo. Para poder hacerlo de una forma sumamente sencilla, debemos primero hacer un poco de combinatoria.\n",
    "\n",
    "Supongamos que tenemos una secuencia finita de $n$ números. Ahora, intuitivamente, el _peor caso posible_ -es decir, aquel que requeriría el máximo número de intercambios entre los números de la secuencia- se da cuando la secuencia de entrada está ordenada de forma totalmente opuesta a la salida que buscamos; esto es, cuando está ordenada de mayor a menor. Supongamos que nos encontramos en el peor caso. Para cambiar al _mayor_ número de la secuencia desde el extremo izquierdo hasta el derecho requerimos $n-1$ _traslaciones_ (permutaciones de elementos adyacentes). Luego, será el _segundo mayor_ número el que se encontrará en el extremo izquierdo, y nos tomará $n-2$ traslaciones llevarlo a su lugar final (el penúltimo). Así seguiremos sucesivamente hasta que el \"_penúltimo_ mayor número\" (o, equivalentemente, el segundo menor) requiera $n - (n-1) = 1$ traslación para que la secuencia quede sorteada. Por lo tanto, podemos afirmar que, **en el peor de los casos**, el número **máximo** de traslaciones será\n",
    "\n",
    "$$n_{máx} = \\sum_{i=1}^{n-1} (n-i).$$\n",
    "\n",
    "En particular, el número máximo de _iteraciones_ sobre toda la secuencia de números es $n$. Esta última observación será de utilidad para simplificar el pseudocódigo, que se muestra a continuación."
   ]
  },
  {
   "cell_type": "markdown",
   "id": "b2f6d58f",
   "metadata": {},
   "source": [
    "**Algoritmo:** Sorteo de burbuja.\n",
    "\n",
    "**Entrada:** una secuencia finita de `n` números.\n",
    "\n",
    "**Salida:** una secuencia finita de `n` números ordenados de menor a mayor.\n",
    "\n",
    "**Pseudocódigo**\n",
    "```\n",
    "1 Para cada i desde 1 hasta n\n",
    "2     Para cada j desde 1 hasta n-1\n",
    "3         Si A[j] es mayor que A[j+1]\n",
    "4             Intercambia a A[j] y A[j+1]\n",
    "```\n",
    "\n",
    "Una implementación en Julia de este pseudocódigo se ve como sigue:"
   ]
  },
  {
   "cell_type": "code",
   "execution_count": 6,
   "id": "b235b656",
   "metadata": {},
   "outputs": [
    {
     "name": "stdout",
     "output_type": "stream",
     "text": [
      "[4, 5, 7, 13, 27, 59]"
     ]
    }
   ],
   "source": [
    "#Implementación de nuestro pseudocódigo de \"Bubble sort\" en Julia\n",
    "\n",
    "A = [5, 7, 13, 27, 59, 4] #¡Cambia este arreglo de números y ejecuta la celda de nuevo!\n",
    "n = length(A)\n",
    "\n",
    "for i in 1:n                            # Para cada i desde 1 hasta n\n",
    "    for j in 1:(n-1)                    #     Para cada j desde 1 hasta n-1\n",
    "        if A[j] > A[j+1]                #         Si el elem. izq. es mayor al derecho\n",
    "            A[j], A[j+1] = A[j+1], A[j] #             Itercámbialos\n",
    "        end\n",
    "    end\n",
    "end\n",
    "\n",
    "print(A)"
   ]
  },
  {
   "cell_type": "markdown",
   "id": "c8a61d2a",
   "metadata": {},
   "source": [
    "**Ejercicio** Piensa en otra forma de solucionar el problema de sorteo **distinta** del sorteo de burbuja. Luego:\n",
    "1. Descríbela con tus palabras de la forma más clara posible.\n",
    "1. Argumenta si crees que sería una solución correcta y por qué (no es necesario demostrarlo).\n",
    "1. Especula alrededor de su eficiencia en cuanto a espacio (memoria) y tiempo.\n",
    "1. Intenta representar tu solución con un diagrama de flujo.\n",
    "1. Representa tu solución con un pseudocódigo.\n",
    "\n",
    "La intención del ejercicio es que **repases, refuerces y pienses mucho** en lo que hemos visto en este _notebook_, por lo que **vale mucho más un intento de solución propia -aunque sea incorrecta- que una solución correcta que no hayas obtenido por tu cuenta**."
   ]
  },
  {
   "cell_type": "markdown",
   "id": "0126ee7c",
   "metadata": {},
   "source": [
    "**Respuesta**\n",
    "Tenemos $(a_1, a_2, \\dots, a_n)$ \n",
    "1. Comparamos el primer número con el último, si el último número es menor que el primero lo movemos una posición a la izquierda que el primer número; si no, lo dejamos en su posición.\n",
    "2. Si la posición fue intercambiada volver a repetir el proceso de comparar el primer número con el último, o sea el paso 1, si no comparar con una posición a la izquierda del número mayor y repetir el proceso de 1, intercambiar un lugar a la izquierda si es menor o dejar en la posición si es mayor.\n",
    "3. Repetir el paso 2 hasta llegar al número comparado en este caso $(a_1)$.\n",
    "4. Comparamos este número con el que tiene a la derecha, si es menor el de la izquierda que el de la derecha entonces comparamos el siguiente número y repetimos los pasos 1 al 3.\n",
    "5. Repetir los procesos 1 al 4 hasta que la secuencia este bien sorteada."
   ]
  },
  {
   "cell_type": "markdown",
   "id": "d0893eb0",
   "metadata": {},
   "source": [
    "Llegue a esta conclusión realizando el ejercicio con 5 dígitos, en 3 casos diferentes por lo que creo que es una solución correcta. Al principio solo había tomado en consideración el paso 1 y 2, repitiendo estos pero me di cuenta que no sería una solución porque llegaría un momento en donde el primer número sería el menor de la secuencia y si no movemos de lugar se crearía un bucle."
   ]
  },
  {
   "cell_type": "markdown",
   "id": "9441293c",
   "metadata": {},
   "source": [
    "Creo que los números menores llegarían primero, creo que es un poco mas eficiente que el bubble porque no tiene que comparar todos los números desde el inicio una y otra vez."
   ]
  },
  {
   "cell_type": "markdown",
   "id": "0665d5bb",
   "metadata": {},
   "source": [
    "**Pseudocódigo**\n",
    "1. Para cada i desde 1 hasta n \n",
    "2. Para cada j desde n hasta 1\n",
    "3. Si A[j] es mayor a A[i] mover A[j] a A[i-1]\n",
    "4. Si A[i-1] < A[i] ir a A[j-1]\n",
    "5. Si A[j-1] < A[i] mover A[j-1] a A[i-1]"
   ]
  },
  {
   "cell_type": "markdown",
   "id": "eaf127e4",
   "metadata": {},
   "source": [
    "<img src=\"SORTEO.png\">"
   ]
  },
  {
   "cell_type": "markdown",
   "id": "30f6e0fd",
   "metadata": {},
   "source": [
    "**Nota** Más allá de los problemas más prácticos hemos mencionado anteriormente, muchos problemas de matemáticas \"puras\" _también_ se resuelven mediante **algoritmos computacionales**. Por ejemplo, el _**algoritmo** de la división (de Euclides)_ en aritmética, que sirve para dividir dos números enteros, o el _proceso de Gram-Schmidt_ en álgebra lineal, que sirve para ortogonalizar conjuntos finitos linealmente independientes en espacios vectoriales con producto escalar. Particularmente, para el segundo caso, una representación visual de la solución a dicho problema se puede apreciar [en este video](https://www.youtube.com/watch?v=7oO6xXpaTLk), así como una representación en forma de pseudocódigo al final del mismo."
   ]
  },
  {
   "cell_type": "markdown",
   "id": "d3cc512d",
   "metadata": {},
   "source": [
    "## Recursos complementarios\n",
    "* Cormen, Leiserson, Rivest y Stein, _Introduction to Algorithms_, Capítulos 1 \"The Role of Algorithms in Computing\" y 2 \"Getting Started\", págs. 5-42.\n",
    "* Video [Visualization of 24 Sorting Algorithms In 2 Minutes](https://www.youtube.com/watch?v=BeoCbJPuvSE).\n",
    "* Sitio web [Sort Visualizer](https://www.sortvisualizer.com/).\n",
    "* Sitio web interactivo [Comparison Sorting Algorithms](https://www.cs.usfca.edu/~galles/visualization/ComparisonSort.html).\n",
    "* Video [Ortogonalización y ortonormalización (Teorema de Gram-Schmidt)](https://www.youtube.com/watch?v=7oO6xXpaTLk) del canal de YouTube [Animathica](https://www.youtube.com/@Animathica).\n",
    "* Página de Wikipedia de [Flowcharts](https://en.wikipedia.org/wiki/Flowchart)."
   ]
  }
 ],
 "metadata": {
  "kernelspec": {
   "display_name": "Julia 1.8.5",
   "language": "julia",
   "name": "julia-1.8"
  },
  "language_info": {
   "file_extension": ".jl",
   "mimetype": "application/julia",
   "name": "julia",
   "version": "1.8.5"
  }
 },
 "nbformat": 4,
 "nbformat_minor": 5
}
