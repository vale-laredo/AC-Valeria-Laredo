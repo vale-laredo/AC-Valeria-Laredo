{
 "cells": [
  {
   "cell_type": "markdown",
   "id": "0f785daf",
   "metadata": {},
   "source": [
    "# Tipos de dato de texto y arreglos\n",
    "\n",
    "En este _notebook_ veremos los tipos de dato utilizados por Julia para trabajar con texto y conjuntos de datos."
   ]
  },
  {
   "cell_type": "markdown",
   "id": "cc36e7bb",
   "metadata": {},
   "source": [
    "## Tipos de datos de texto\n",
    "\n",
    "Al programar, poder trabajar con texto siempre es deseable, pues esta funcionalidad es necesaria para, por ejemplo, poder interactuar con la persona que usará el programa, imprimiendo instrucciones en pantalla de qué hacer o pidiéndole que ingrese algunos datos en algún punto de la ejecución del programa.\n",
    "\n",
    "### `Char`\n",
    "\n",
    "El **tipo de dato de texto primitivo** en Julia es **`Char`**. Cualquier símbolo envuelto en comillas `''` será considerado como un dato de tipo `Char`:"
   ]
  },
  {
   "cell_type": "code",
   "execution_count": 1,
   "id": "24db7b73",
   "metadata": {},
   "outputs": [
    {
     "data": {
      "text/plain": [
       "'a': ASCII/Unicode U+0061 (category Ll: Letter, lowercase)"
      ]
     },
     "execution_count": 1,
     "metadata": {},
     "output_type": "execute_result"
    }
   ],
   "source": [
    "'a'"
   ]
  },
  {
   "cell_type": "code",
   "execution_count": 2,
   "id": "dcec22eb",
   "metadata": {},
   "outputs": [
    {
     "data": {
      "text/plain": [
       "Char"
      ]
     },
     "execution_count": 2,
     "metadata": {},
     "output_type": "execute_result"
    }
   ],
   "source": [
    "typeof('a')"
   ]
  },
  {
   "cell_type": "markdown",
   "id": "f0e7c7fa",
   "metadata": {},
   "source": [
    "La primera celda nos revela que Julia interpreta el símbolo `a` según su clave de [Unicode](https://en.wikipedia.org/wiki/Unicode), el cual es un estándar mundial que asigna una clave única a 144,697 caracteres en alrededor de 159 idiomas.\n",
    "\n",
    "Muchos símbolos con clave Unicode que pueden ser escritos con un comando de $\\LaTeX$ también se pueden escribir en Julia con el mismo comando usando \"auto completación\" con la tecla `Tab`. Por ejemplo, para escribir $\\alpha$ en el REPL de Julia o en una celda de Jupyter, basta escribir el comando de $\\LaTeX$ `\\alpha` y luego presionar la tecla `Tab`:"
   ]
  },
  {
   "cell_type": "code",
   "execution_count": null,
   "id": "6a750426",
   "metadata": {},
   "outputs": [],
   "source": [
    " α #¡Escribe α al inicio de esta celda (sin copiar y pegar)!"
   ]
  },
  {
   "cell_type": "markdown",
   "id": "1b07844f",
   "metadata": {},
   "source": [
    "La \"auto completación\" significa que si escribimos un comando parcial de $\\LaTeX$ que Julia puede representar con un caracter Unicode y presionamos la tecla `Tab`, aparecerá una lista con todos los comandos de $\\LaTeX$ que empiezan con esas mismas letras y que pueden ser representados por un caracter Unicode."
   ]
  },
  {
   "cell_type": "code",
   "execution_count": null,
   "id": "fec84d9e",
   "metadata": {},
   "outputs": [],
   "source": [
    "ℵ #Mira las opciones presionando la tecla Tab"
   ]
  },
  {
   "cell_type": "markdown",
   "id": "0fa7834e",
   "metadata": {},
   "source": [
    "Los caracteres que pueden ser representados de esta manera se pueden consultar en la [documentación de Julia](https://docs.julialang.org/en/v1/manual/unicode-input/#Unicode-Input).\n",
    "\n",
    "Es importante recordar que todo símbolo que escribamos entre comillas `''` será interpretado por Julia como un dato de tipo `Char` por lo que, por ejemplo, el siguiente código no funcionará"
   ]
  },
  {
   "cell_type": "code",
   "execution_count": 12,
   "id": "eba9fc6b",
   "metadata": {},
   "outputs": [
    {
     "ename": "LoadError",
     "evalue": "MethodError: no method matching +(::Char, ::Char)\n\u001b[0mClosest candidates are:\n\u001b[0m  +(::Any, ::Any, \u001b[91m::Any\u001b[39m, \u001b[91m::Any...\u001b[39m) at operators.jl:591\n\u001b[0m  +(::T, \u001b[91m::Integer\u001b[39m) where T<:AbstractChar at char.jl:237\n\u001b[0m  +(\u001b[91m::Integer\u001b[39m, ::AbstractChar) at char.jl:247",
     "output_type": "error",
     "traceback": [
      "MethodError: no method matching +(::Char, ::Char)\n\u001b[0mClosest candidates are:\n\u001b[0m  +(::Any, ::Any, \u001b[91m::Any\u001b[39m, \u001b[91m::Any...\u001b[39m) at operators.jl:591\n\u001b[0m  +(::T, \u001b[91m::Integer\u001b[39m) where T<:AbstractChar at char.jl:237\n\u001b[0m  +(\u001b[91m::Integer\u001b[39m, ::AbstractChar) at char.jl:247",
      "",
      "Stacktrace:",
      " [1] top-level scope",
      "   @ In[12]:1"
     ]
    }
   ],
   "source": [
    "'5' + '3' #Julia los interpreta como Char, no como Int"
   ]
  },
  {
   "cell_type": "code",
   "execution_count": 13,
   "id": "23c114fa",
   "metadata": {},
   "outputs": [
    {
     "data": {
      "text/plain": [
       "8"
      ]
     },
     "execution_count": 13,
     "metadata": {},
     "output_type": "execute_result"
    }
   ],
   "source": [
    "5+3"
   ]
  },
  {
   "cell_type": "markdown",
   "id": "c06ceaf7",
   "metadata": {},
   "source": [
    "pues el operador **`+`** no está definido para datos de tipo `Char`."
   ]
  },
  {
   "cell_type": "markdown",
   "id": "4e4de5de",
   "metadata": {},
   "source": [
    "### `print` y `println`\n",
    "\n",
    "Las principales **funciones para imprimir caracteres** en Julia son **`print`** y **`println`**. La diferencia entre ellas es que `println` crea una _nueva línea_ después de haber impreso el caracter de su argumento."
   ]
  },
  {
   "cell_type": "code",
   "execution_count": 14,
   "id": "87e182cf",
   "metadata": {},
   "outputs": [
    {
     "name": "stdout",
     "output_type": "stream",
     "text": [
      "a b"
     ]
    }
   ],
   "source": [
    "print('a')\n",
    "print(' ')\n",
    "print('b')\n",
    "#Compara el resultado de esta celda..."
   ]
  },
  {
   "cell_type": "code",
   "execution_count": 15,
   "id": "08cb057c",
   "metadata": {},
   "outputs": [
    {
     "name": "stdout",
     "output_type": "stream",
     "text": [
      "a\n",
      " \n",
      "b"
     ]
    }
   ],
   "source": [
    "#...con el de ésta.\n",
    "println('a')\n",
    "println(' ')\n",
    "print('b')"
   ]
  },
  {
   "cell_type": "markdown",
   "id": "2e36f9bb",
   "metadata": {},
   "source": [
    "### `String`\n",
    "\n",
    "Trabajar texto siempre a nivel de caracteres resulta impráctico. Para escribir **secuencias de caracteres**, existe un tipo de dato llamado **`String`**. Para escribir un dato de tipo `String`, debemos envolver símbolos entre comillas **dobles** `\"\"`:"
   ]
  },
  {
   "cell_type": "code",
   "execution_count": 16,
   "id": "d96e479d",
   "metadata": {},
   "outputs": [
    {
     "data": {
      "text/plain": [
       "\"¡Hola, mundo!\""
      ]
     },
     "execution_count": 16,
     "metadata": {},
     "output_type": "execute_result"
    }
   ],
   "source": [
    "\"¡Hola, mundo!\""
   ]
  },
  {
   "cell_type": "code",
   "execution_count": 17,
   "id": "9bfe6c65",
   "metadata": {},
   "outputs": [
    {
     "data": {
      "text/plain": [
       "String"
      ]
     },
     "execution_count": 17,
     "metadata": {},
     "output_type": "execute_result"
    }
   ],
   "source": [
    "typeof(\"¡Hola, mundo!\")"
   ]
  },
  {
   "cell_type": "markdown",
   "id": "85fe4080",
   "metadata": {},
   "source": [
    "Podemos utilizar las funciones `print` y `println` con datos de tipo `String` como lo hacíamos con los de tipo `Char`."
   ]
  },
  {
   "cell_type": "code",
   "execution_count": 18,
   "id": "9a9f9928",
   "metadata": {
    "scrolled": true
   },
   "outputs": [
    {
     "name": "stdout",
     "output_type": "stream",
     "text": [
      "¡Hola, mundo!"
     ]
    }
   ],
   "source": [
    "print(\"¡Hola, mundo!\")\n",
    "#=Este programa es típicamente lo primero que alguien aprende a hacer\n",
    "  cuando conoce un nuevo lenguaje de programación de alto nivel :D=#"
   ]
  },
  {
   "cell_type": "markdown",
   "id": "b6f72cb1",
   "metadata": {},
   "source": [
    "Observamos que los operadores aritméticos tampoco funcionan con datos de tipo `String`:"
   ]
  },
  {
   "cell_type": "code",
   "execution_count": 19,
   "id": "509a8357",
   "metadata": {},
   "outputs": [
    {
     "ename": "LoadError",
     "evalue": "MethodError: no method matching -(::String, ::String)",
     "output_type": "error",
     "traceback": [
      "MethodError: no method matching -(::String, ::String)",
      "",
      "Stacktrace:",
      " [1] top-level scope",
      "   @ In[19]:1"
     ]
    }
   ],
   "source": [
    "\"2.0\" - \"73.1\" #Julia los interpreta como String, no como Float"
   ]
  },
  {
   "cell_type": "markdown",
   "id": "f3927a92",
   "metadata": {},
   "source": [
    "Algunas operaciones comunes que se pueden realizar en Julia con datos de tipo `String` se pueden consultar [en la documentación](https://docs.julialang.org/en/v1/manual/strings/#Common-Operations)."
   ]
  },
  {
   "cell_type": "markdown",
   "id": "bc9384ff",
   "metadata": {},
   "source": [
    "## Arreglos\n",
    "\n",
    "A menudo es deseable procesar conjuntos de datos en vez de datos por separado; por ejemplo, cuando queremos trabajar con vectores y matrices, graficar y analizar datos, o manipular imágenes. Para ello existen los **arreglos** de datos, que son una **estructura que permite agrupar datos de tal forma que sean fáciles de accesar y operar**.\n",
    "\n",
    "En Julia, un **arreglo** se crea cuando un **conjunto de datos separados por un espacio** es **delimitado con corchetes** `[]`:"
   ]
  },
  {
   "cell_type": "code",
   "execution_count": 20,
   "id": "b45b012a",
   "metadata": {},
   "outputs": [
    {
     "data": {
      "text/plain": [
       "1×8 Matrix{Int64}:\n",
       " 1  2  3  4  5  6  7  8"
      ]
     },
     "execution_count": 20,
     "metadata": {},
     "output_type": "execute_result"
    }
   ],
   "source": [
    "[ 1 2 3 4 5 6 7 8 ]"
   ]
  },
  {
   "cell_type": "markdown",
   "id": "007db5ac",
   "metadata": {},
   "source": [
    "Vemos que surge un nuevo tipo de dato compuesto para el arreglo anterior: `Matrix{Int64}`. Además, Julia nos informa que nuestra matriz de enteros es de `1` renglón y `8` columnas. Más aún, si le aplicamos la función `typeof()` al arreglo anterior"
   ]
  },
  {
   "cell_type": "code",
   "execution_count": 21,
   "id": "74495daf",
   "metadata": {},
   "outputs": [
    {
     "data": {
      "text/plain": [
       "Matrix{Int64}\u001b[90m (alias for \u001b[39m\u001b[90mArray{Int64, 2}\u001b[39m\u001b[90m)\u001b[39m"
      ]
     },
     "execution_count": 21,
     "metadata": {},
     "output_type": "execute_result"
    }
   ],
   "source": [
    "typeof([ 1 2 3 4 5 6 7 8 ])"
   ]
  },
  {
   "cell_type": "markdown",
   "id": "fc8bcfea",
   "metadata": {},
   "source": [
    "Podemos ver que `Matrix{Int64}` es simplemente un alias para el tipo de dato (compuesto) `Array{Int64, 2}`. `Int64` se refiere al tipo de los datos contenidos en el arreglo y `2` se refiere al número de dimensiones del arreglo (como Julia considera a nuestro arreglo como una matriz de un renglón y ocho columnas, entonces tiene dos dimensiones)."
   ]
  },
  {
   "cell_type": "markdown",
   "id": "617370a7",
   "metadata": {},
   "source": [
    "### Matrices\n",
    "\n",
    "En el _notebook_ [`1.1-Operadores_aritméticos_y_tipos_de_datos_numéricos.ipynb`](./1.1-Operadores_aritméticos_y_tipos_de_datos_numéricos.ipynb) vimos cómo hacer operaciones entre números. Sin embargo, dada la utilidad de acomodar números en arreglos -como vectores y matrices- y hacer operaciones entre ellos, existe una implementación de lo anterior en Julia.\n",
    "\n",
    "Para escribir una matriz de más de un renglón, separamos a los vectores renglón utilizando el símbolo de punto y coma `;`:"
   ]
  },
  {
   "cell_type": "code",
   "execution_count": 22,
   "id": "57006dcf",
   "metadata": {
    "scrolled": false
   },
   "outputs": [
    {
     "data": {
      "text/plain": [
       "3×3 Matrix{Int64}:\n",
       " 1  2  3\n",
       " 4  5  6\n",
       " 7  8  9"
      ]
     },
     "execution_count": 22,
     "metadata": {},
     "output_type": "execute_result"
    }
   ],
   "source": [
    "[1 2 3 ; 4 5 6 ; 7 8 9]"
   ]
  },
  {
   "cell_type": "markdown",
   "id": "337fc5df",
   "metadata": {},
   "source": [
    "Podemos usar los operadores aritméticos **`+`**, **`-`** y **`*`** para hacer operaciones entre matrices, siempre que las dimensiones coincidan de tal suerte que la operacion esté bien definida:"
   ]
  },
  {
   "cell_type": "code",
   "execution_count": 23,
   "id": "cac1f3a8",
   "metadata": {},
   "outputs": [
    {
     "data": {
      "text/plain": [
       "3×3 Matrix{Int64}:\n",
       " 2  2   3\n",
       " 4  5   6\n",
       " 7  9  10"
      ]
     },
     "execution_count": 23,
     "metadata": {},
     "output_type": "execute_result"
    }
   ],
   "source": [
    "[1 2 3 ; 4 5 6 ; 7 8 9] + [1 0 0 ; 0 0 0 ; 0 1 1]"
   ]
  },
  {
   "cell_type": "code",
   "execution_count": 24,
   "id": "77d522e8",
   "metadata": {},
   "outputs": [
    {
     "ename": "LoadError",
     "evalue": "DimensionMismatch: dimensions must match: a has dims (Base.OneTo(2), Base.OneTo(3)), b has dims (Base.OneTo(3), Base.OneTo(3)), mismatch at 1",
     "output_type": "error",
     "traceback": [
      "DimensionMismatch: dimensions must match: a has dims (Base.OneTo(2), Base.OneTo(3)), b has dims (Base.OneTo(3), Base.OneTo(3)), mismatch at 1",
      "",
      "Stacktrace:",
      " [1] promote_shape",
      "   @ ./indices.jl:178 [inlined]",
      " [2] promote_shape(a::Matrix{Int64}, b::Matrix{Int64})",
      "   @ Base ./indices.jl:169",
      " [3] -(A::Matrix{Int64}, B::Matrix{Int64})",
      "   @ Base ./arraymath.jl:7",
      " [4] top-level scope",
      "   @ In[24]:1"
     ]
    }
   ],
   "source": [
    "[1 2 3 ; 4 5 6] - [1 0 0 ; 0 0 0 ; 0 1 1]\n",
    "#Obtenemos un error porque las dimensiones no coindicen"
   ]
  },
  {
   "cell_type": "code",
   "execution_count": 25,
   "id": "c28004ae",
   "metadata": {},
   "outputs": [
    {
     "data": {
      "text/plain": [
       "2×2 Matrix{Int64}:\n",
       " 22  28\n",
       " 49  64"
      ]
     },
     "execution_count": 25,
     "metadata": {},
     "output_type": "execute_result"
    }
   ],
   "source": [
    "[1 2 3 ; 4 5 6] * [1 2 ; 3 4 ; 5 6]\n",
    "#=En este ejemplo, a pesar de que las dimensiones difieran, ¡lo hacen de\n",
    "  tal forma que la multiplicación de las matrices esté bien definida!=#"
   ]
  },
  {
   "cell_type": "markdown",
   "id": "9ac3bf08",
   "metadata": {},
   "source": [
    "Más aún, el operador **`*`** se puede usar para multiplicar una matriz por un escalar:"
   ]
  },
  {
   "cell_type": "code",
   "execution_count": 26,
   "id": "cc8a7831",
   "metadata": {
    "scrolled": true
   },
   "outputs": [
    {
     "data": {
      "text/plain": [
       "3×3 Matrix{Int64}:\n",
       "  5  10  15\n",
       " 20  25  30\n",
       " 35  40  45"
      ]
     },
     "execution_count": 26,
     "metadata": {},
     "output_type": "execute_result"
    }
   ],
   "source": [
    "5 * [1 2 3 ; 4 5 6 ; 7 8 9]"
   ]
  },
  {
   "cell_type": "code",
   "execution_count": 27,
   "id": "ce0db540",
   "metadata": {},
   "outputs": [
    {
     "data": {
      "text/plain": [
       "3×3 Matrix{Int64}:\n",
       "  5  10  15\n",
       " 20  25  30\n",
       " 35  40  45"
      ]
     },
     "execution_count": 27,
     "metadata": {},
     "output_type": "execute_result"
    }
   ],
   "source": [
    "[1 2 3 ; 4 5 6 ; 7 8 9] * 5"
   ]
  },
  {
   "cell_type": "markdown",
   "id": "52e55178",
   "metadata": {},
   "source": [
    "Sin embargo, esto falla para otros tipos de operaciones:"
   ]
  },
  {
   "cell_type": "code",
   "execution_count": 28,
   "id": "d079c415",
   "metadata": {},
   "outputs": [
    {
     "ename": "LoadError",
     "evalue": "MethodError: no method matching +(::Matrix{Int64}, ::Int64)\nFor element-wise addition, use broadcasting with dot syntax: array .+ scalar\n\u001b[0mClosest candidates are:\n\u001b[0m  +(::Any, ::Any, \u001b[91m::Any\u001b[39m, \u001b[91m::Any...\u001b[39m) at operators.jl:591\n\u001b[0m  +(\u001b[91m::T\u001b[39m, ::T) where T<:Union{Int128, Int16, Int32, Int64, Int8, UInt128, UInt16, UInt32, UInt64, UInt8} at int.jl:87\n\u001b[0m  +(\u001b[91m::Base.TwicePrecision\u001b[39m, ::Number) at twiceprecision.jl:290\n\u001b[0m  ...",
     "output_type": "error",
     "traceback": [
      "MethodError: no method matching +(::Matrix{Int64}, ::Int64)\nFor element-wise addition, use broadcasting with dot syntax: array .+ scalar\n\u001b[0mClosest candidates are:\n\u001b[0m  +(::Any, ::Any, \u001b[91m::Any\u001b[39m, \u001b[91m::Any...\u001b[39m) at operators.jl:591\n\u001b[0m  +(\u001b[91m::T\u001b[39m, ::T) where T<:Union{Int128, Int16, Int32, Int64, Int8, UInt128, UInt16, UInt32, UInt64, UInt8} at int.jl:87\n\u001b[0m  +(\u001b[91m::Base.TwicePrecision\u001b[39m, ::Number) at twiceprecision.jl:290\n\u001b[0m  ...",
      "",
      "Stacktrace:",
      " [1] top-level scope",
      "   @ In[28]:1"
     ]
    }
   ],
   "source": [
    "[1 2 3 ; 4 5 6 ; 7 8 9] + 5 #Esto nos devuelve un mensaje de error"
   ]
  },
  {
   "cell_type": "markdown",
   "id": "903d5e1c",
   "metadata": {},
   "source": [
    "pues no está bien definido qué significa sumarle un número a una matriz de varias entradas. Si lo que queremos es aplicar un operador a _cada una de las entradas de un arreglo_, generalmente funciona colocar un punto **`.`** antes del operador, como en los siguientes ejemplos:"
   ]
  },
  {
   "cell_type": "code",
   "execution_count": 29,
   "id": "83f5acd9",
   "metadata": {},
   "outputs": [
    {
     "data": {
      "text/plain": [
       "3×3 Matrix{Int64}:\n",
       "  6   7   8\n",
       "  9  10  11\n",
       " 12  13  14"
      ]
     },
     "execution_count": 29,
     "metadata": {},
     "output_type": "execute_result"
    }
   ],
   "source": [
    "[1 2 3 ; 4 5 6 ; 7 8 9] .+ 5 #Esto suma 5 a cada entrada de la matriz"
   ]
  },
  {
   "cell_type": "code",
   "execution_count": 30,
   "id": "d055d4a3",
   "metadata": {},
   "outputs": [
    {
     "data": {
      "text/plain": [
       "1×3 Matrix{Float64}:\n",
       " 5.0  2.5  6.2"
      ]
     },
     "execution_count": 30,
     "metadata": {},
     "output_type": "execute_result"
    }
   ],
   "source": [
    "[6.0 3.5 7.2] .- 1 #Esto resta el flotante 1.0 a cada entrada del vector"
   ]
  },
  {
   "cell_type": "markdown",
   "id": "46893b73",
   "metadata": {},
   "source": [
    "**Nota** A pesar de que en este caso utilicemos los operadores aritméticos para hacer operaciones entre _arreglos de números_ en vez de sólo números, estos tienen la misma precedencia y asociatividad que discutimos en el _notebook_ [`1.1-Operadores_aritméticos_y_tipos_de_datos_numéricos.ipynb`](./1.1-Operadores_aritméticos_y_tipos_de_datos_numéricos.ipynb)."
   ]
  },
  {
   "cell_type": "markdown",
   "id": "63308d7c",
   "metadata": {},
   "source": [
    "**Ejercicio** ¿Qué tipo de dato tiene la matriz `[1 2 3 ; 4 5 6 ; 7 8 9]`? ¿Es un tipo de dato primitivo o compuesto?"
   ]
  },
  {
   "cell_type": "code",
   "execution_count": 31,
   "id": "261485b7",
   "metadata": {},
   "outputs": [
    {
     "data": {
      "text/plain": [
       "Matrix{Int64}\u001b[90m (alias for \u001b[39m\u001b[90mArray{Int64, 2}\u001b[39m\u001b[90m)\u001b[39m"
      ]
     },
     "execution_count": 31,
     "metadata": {},
     "output_type": "execute_result"
    }
   ],
   "source": [
    "typeof([1 2 3 ; 4 5 6 ; 7 8 9]) #¿Recuerdas qué función usar para averiguar esto?"
   ]
  },
  {
   "cell_type": "markdown",
   "id": "1c5106bb",
   "metadata": {},
   "source": [
    "### Respuesta\n",
    "\n",
    "Es de tipo `Matrix{Int64} (alias for Array{Int64, 2})`y es de tipo **compuesto** porque tiene más de un tipo de dato que es Matrix e Int 64"
   ]
  },
  {
   "cell_type": "markdown",
   "id": "76e05395",
   "metadata": {},
   "source": [
    "**Nota** Es importante separar las entradas de las matrices con espacios pues, de lo contario, Julia las intentará interpretar como cifras de un mismo número. Sin embargo, el separador de renglones `;` no necesita que dejemos espacios antes ni después de él; aún así, te recomendamos que sigas esta práctica para tener mayor claridad y legibilidad en tu código. "
   ]
  },
  {
   "cell_type": "markdown",
   "id": "d5d6761d",
   "metadata": {},
   "source": [
    "### Vectores\n",
    "\n",
    "Siguiendo la discusión anterior, la forma de escribir vectores tal que podamos aplicarles matrices usando el operador **`*`** es escribiéndolos como _vectores columna_, es decir, como matrices de una sola columna."
   ]
  },
  {
   "cell_type": "code",
   "execution_count": 32,
   "id": "206beb31",
   "metadata": {},
   "outputs": [
    {
     "data": {
      "text/plain": [
       "3-element Vector{Int64}:\n",
       " 1\n",
       " 2\n",
       " 3"
      ]
     },
     "execution_count": 32,
     "metadata": {},
     "output_type": "execute_result"
    }
   ],
   "source": [
    "[1 ; 2 ; 3]"
   ]
  },
  {
   "cell_type": "code",
   "execution_count": 34,
   "id": "ddcb6e18",
   "metadata": {},
   "outputs": [
    {
     "data": {
      "text/plain": [
       "Vector{Int64}\u001b[90m (alias for \u001b[39m\u001b[90mArray{Int64, 1}\u001b[39m\u001b[90m)\u001b[39m"
      ]
     },
     "execution_count": 34,
     "metadata": {},
     "output_type": "execute_result"
    }
   ],
   "source": [
    "typeof([1 ; 2 ;3])"
   ]
  },
  {
   "cell_type": "code",
   "execution_count": 35,
   "id": "15d43c36",
   "metadata": {},
   "outputs": [
    {
     "data": {
      "text/plain": [
       "3-element Vector{Int64}:\n",
       " 1\n",
       " 2\n",
       " 3"
      ]
     },
     "execution_count": 35,
     "metadata": {},
     "output_type": "execute_result"
    }
   ],
   "source": [
    "[1 0 0 ; 0 1 0 ; 0 0 1] * [1 ; 2 ; 3] #Aplicando la matriz identidad de 3x3 a (1, 2, 3) ∈ R^3"
   ]
  },
  {
   "cell_type": "markdown",
   "id": "31b4d29a",
   "metadata": {},
   "source": [
    "Una forma equivalente de escribir vectores columna es separando cada entrada con un símbolo de coma `,`:"
   ]
  },
  {
   "cell_type": "code",
   "execution_count": 36,
   "id": "7b385587",
   "metadata": {},
   "outputs": [
    {
     "data": {
      "text/plain": [
       "3-element Vector{Int64}:\n",
       " 1\n",
       " 2\n",
       " 3"
      ]
     },
     "execution_count": 36,
     "metadata": {},
     "output_type": "execute_result"
    }
   ],
   "source": [
    "[1, 2, 3]"
   ]
  },
  {
   "cell_type": "code",
   "execution_count": 37,
   "id": "43e3f681",
   "metadata": {},
   "outputs": [
    {
     "data": {
      "text/plain": [
       "3-element Vector{Int64}:\n",
       " 1\n",
       " 2\n",
       " 3"
      ]
     },
     "execution_count": 37,
     "metadata": {},
     "output_type": "execute_result"
    }
   ],
   "source": [
    "[1 0 0 ; 0 1 0 ; 0 0 1] * [1, 2, 3]"
   ]
  },
  {
   "cell_type": "markdown",
   "id": "a352f1a3",
   "metadata": {},
   "source": [
    "Es decir, si escribimos un arreglo de números separados por comas como `[a, b, c, d]`, Julia lo interpretará como el vector columna con entradas `a`, `b`, `c` y `d`, equivalente a la matriz de una sola columna `[a ; b ; c ; d]`.\n",
    "\n",
    "Esto es reminiscente a cómo, en matemáticas, normalmente escribimos vectores de algún espacio $K^n$ (donde $K$ es un campo) como $(a, b, c, \\dots)$ pero, al multiplicarlos por una matriz, por conveniencia preferimos escribirlos como\n",
    "\n",
    "$$\\begin{pmatrix} a \\\\ b \\\\ c \\\\ \\vdots \\end{pmatrix},$$\n",
    "\n",
    "lo cual implica una equivalencia entre este vector columna y la $n$-tupla $(a, b, c, \\dots)$."
   ]
  },
  {
   "cell_type": "markdown",
   "id": "d9d566fc",
   "metadata": {},
   "source": [
    "**Ejercicio** ¿Qué tipo de dato tiene el vector `[6.0, 3.5, 7.2]`? Verifícalo creando una celda de código."
   ]
  },
  {
   "cell_type": "code",
   "execution_count": 38,
   "id": "2f3d11c9",
   "metadata": {},
   "outputs": [
    {
     "data": {
      "text/plain": [
       "Vector{Float64}\u001b[90m (alias for \u001b[39m\u001b[90mArray{Float64, 1}\u001b[39m\u001b[90m)\u001b[39m"
      ]
     },
     "execution_count": 38,
     "metadata": {},
     "output_type": "execute_result"
    }
   ],
   "source": [
    "typeof([6.0, 3.5, 7.2])"
   ]
  },
  {
   "cell_type": "markdown",
   "id": "fa6df202",
   "metadata": {},
   "source": [
    "### Respuesta\n",
    "Es de tipo `Vector{Float64} (alias for Array{Float64, 1})` y es **compuesto** ."
   ]
  },
  {
   "cell_type": "markdown",
   "id": "b67af3aa",
   "metadata": {},
   "source": [
    "### Índices y subarreglos\n",
    "\n",
    "¿Qué hacemos si queremos acceder al valor de alguna entrada específica de un vector? Julia le asigna a cada entrada de un vector un **índice** que _empieza por el número_ `1` (a diferencia de otros lenguajes de programación, que empiezan por el `0`). Para acceder a la $i$-ésima entrada de un vector, debemos escribir `[i]` a la derecha del vector _sin dejar espacio_: "
   ]
  },
  {
   "cell_type": "code",
   "execution_count": 39,
   "id": "79417565",
   "metadata": {},
   "outputs": [
    {
     "data": {
      "text/plain": [
       "10"
      ]
     },
     "execution_count": 39,
     "metadata": {},
     "output_type": "execute_result"
    }
   ],
   "source": [
    "[10, 8, 5][1]"
   ]
  },
  {
   "cell_type": "code",
   "execution_count": 40,
   "id": "adfa59f8",
   "metadata": {},
   "outputs": [
    {
     "data": {
      "text/plain": [
       "8"
      ]
     },
     "execution_count": 40,
     "metadata": {},
     "output_type": "execute_result"
    }
   ],
   "source": [
    "[10, 8, 5][2]"
   ]
  },
  {
   "cell_type": "code",
   "execution_count": 42,
   "id": "5ebfd884",
   "metadata": {},
   "outputs": [
    {
     "data": {
      "text/plain": [
       "5"
      ]
     },
     "execution_count": 42,
     "metadata": {},
     "output_type": "execute_result"
    }
   ],
   "source": [
    "[10, 8, 5][3] #Obtenemos un error -inicialmente- por haber dejado un espacio"
   ]
  },
  {
   "cell_type": "markdown",
   "id": "9fd17b15",
   "metadata": {},
   "source": [
    "**Ejercicio** Averigua qué sucede cuando intentamos acceder a la $i$-ésima entrada de la siguiente matriz para $1\\leq i\\leq9$:"
   ]
  },
  {
   "cell_type": "code",
   "execution_count": 49,
   "id": "475a00e3",
   "metadata": {},
   "outputs": [
    {
     "data": {
      "text/plain": [
       "8"
      ]
     },
     "execution_count": 49,
     "metadata": {},
     "output_type": "execute_result"
    }
   ],
   "source": [
    "[1 2 3 ; 4 5 6 ; 7 8 9][6]"
   ]
  },
  {
   "cell_type": "markdown",
   "id": "6c324ce4",
   "metadata": {},
   "source": [
    "En el caso de las matrices Julia comienza numerando los renglones de las columnas. En este caso:\n",
    "\n",
    "|Valor|Índice|\n",
    "|---|---|\n",
    "|1|1|\n",
    "|4|2|\n",
    "|7|3|\n",
    "|2|4|\n",
    "|5|5|\n",
    "|8|6|\n",
    "|3|7|\n",
    "|6|8|\n",
    "|9|9|"
   ]
  },
  {
   "cell_type": "markdown",
   "id": "adf5d84a",
   "metadata": {},
   "source": [
    "Una manera más sencilla de acceder a la entrada del renglón $i$ y columna $j$ de una matriz es utilizando la sintáxis `[i,j]`:"
   ]
  },
  {
   "cell_type": "code",
   "execution_count": 50,
   "id": "e226bdc3",
   "metadata": {},
   "outputs": [
    {
     "data": {
      "text/plain": [
       "5"
      ]
     },
     "execution_count": 50,
     "metadata": {},
     "output_type": "execute_result"
    }
   ],
   "source": [
    "[1 2 3 ; 4 5 6 ; 7 8 9][2,2]"
   ]
  },
  {
   "cell_type": "code",
   "execution_count": 51,
   "id": "d471494a",
   "metadata": {},
   "outputs": [
    {
     "data": {
      "text/plain": [
       "7"
      ]
     },
     "execution_count": 51,
     "metadata": {},
     "output_type": "execute_result"
    }
   ],
   "source": [
    "[1 2 3 ; 4 5 6 ; 7 8 9][3,1]"
   ]
  },
  {
   "cell_type": "markdown",
   "id": "9b4e36ad",
   "metadata": {},
   "source": [
    "Nuestra siguiente pregunta es: ¿qué hacemos si queremos acceder a algún _vector renglón_ o _vector columna_ de una matriz? Para acceder al $i$-ésimo vector renglón, utilizamos la sintáxis `[i,:]`:"
   ]
  },
  {
   "cell_type": "code",
   "execution_count": 52,
   "id": "2eec926e",
   "metadata": {},
   "outputs": [
    {
     "data": {
      "text/plain": [
       "7"
      ]
     },
     "execution_count": 52,
     "metadata": {},
     "output_type": "execute_result"
    }
   ],
   "source": [
    "[1 2 3 ; 4 5 6 ; 7 8 9][3]   #Compara el resultado de esta celda..."
   ]
  },
  {
   "cell_type": "code",
   "execution_count": 53,
   "id": "0d44a563",
   "metadata": {},
   "outputs": [
    {
     "data": {
      "text/plain": [
       "3-element Vector{Int64}:\n",
       " 7\n",
       " 8\n",
       " 9"
      ]
     },
     "execution_count": 53,
     "metadata": {},
     "output_type": "execute_result"
    }
   ],
   "source": [
    "[1 2 3 ; 4 5 6 ; 7 8 9][3,:] #...con el de ésta."
   ]
  },
  {
   "cell_type": "markdown",
   "id": "78cd711b",
   "metadata": {},
   "source": [
    "Análogamente, para acceder al `j`-ésimo vector columna, utilizamos la sintáxis `[:,j]`:"
   ]
  },
  {
   "cell_type": "code",
   "execution_count": 54,
   "id": "255a1abd",
   "metadata": {},
   "outputs": [
    {
     "data": {
      "text/plain": [
       "3-element Vector{Int64}:\n",
       " 3\n",
       " 6\n",
       " 9"
      ]
     },
     "execution_count": 54,
     "metadata": {},
     "output_type": "execute_result"
    }
   ],
   "source": [
    "[1 2 3 ; 4 5 6 ; 7 8 9][:,3]"
   ]
  },
  {
   "cell_type": "markdown",
   "id": "3f1def08",
   "metadata": {},
   "source": [
    "Puedes pensar que el símbolo `:` significa \"todos los valores posibles\" para el índice correspondiente. La razón de esto quedará clara más adelante cuando veamos _rangos_.\n",
    "\n",
    "Los ejemplos anteriores muestran que todo arreglo contiene **subarreglos** a los cuales podemos acceder. Más generalmente, para obtener un arreglo con las entradas $i$, $j$ y $k$ de otro arreglo, podemos utilizar la sintáxis `[[i,j,k]]`:"
   ]
  },
  {
   "cell_type": "code",
   "execution_count": 55,
   "id": "7dd440df",
   "metadata": {},
   "outputs": [
    {
     "data": {
      "text/plain": [
       "3-element Vector{Int64}:\n",
       " 1\n",
       " 5\n",
       " 9"
      ]
     },
     "execution_count": 55,
     "metadata": {},
     "output_type": "execute_result"
    }
   ],
   "source": [
    "[1, 3, 5, 7, 9][[1,3,5]]"
   ]
  },
  {
   "cell_type": "markdown",
   "id": "2ccc7e68",
   "metadata": {},
   "source": [
    "Es muy importante notar que, en este caso, en vez de escribir uno o varios índices separados por comas dentro de unos corchetes `[]`, hemos escrito un _arreglo de índices_ (con sus _propios_ corchetes) dentro de los corchetes `[]`, dando como resultado el _subarreglo_ que se obtiene con las entradas correspondientes a esos índices."
   ]
  },
  {
   "cell_type": "markdown",
   "id": "33bc3b1b",
   "metadata": {},
   "source": [
    "### `String` como arreglos de `Char`\n",
    "\n",
    "Sin entrar en detalles técnicos, los datos de tipo `String` _a veces_ pueden ser pensados como arreglos de datos de tipo `Char`. Por ejemplo, podemos hacer uso de índices para acceder a cualquiera de sus entradas (que serán datos de tipo `Char`) o de sus subarreglos (que serán de tipo `String`):"
   ]
  },
  {
   "cell_type": "code",
   "execution_count": 56,
   "id": "462cb71a",
   "metadata": {},
   "outputs": [
    {
     "data": {
      "text/plain": [
       "\"¡Hola, mundo!\""
      ]
     },
     "execution_count": 56,
     "metadata": {},
     "output_type": "execute_result"
    }
   ],
   "source": [
    "\"¡Hola, mundo!\""
   ]
  },
  {
   "cell_type": "code",
   "execution_count": 57,
   "id": "48b7b6b5",
   "metadata": {},
   "outputs": [
    {
     "data": {
      "text/plain": [
       "'¡': Unicode U+00A1 (category Po: Punctuation, other)"
      ]
     },
     "execution_count": 57,
     "metadata": {},
     "output_type": "execute_result"
    }
   ],
   "source": [
    "\"¡Hola, mundo!\"[1]"
   ]
  },
  {
   "cell_type": "code",
   "execution_count": 58,
   "id": "2b8e4fc0",
   "metadata": {},
   "outputs": [
    {
     "data": {
      "text/plain": [
       "\"¡Hola!\""
      ]
     },
     "execution_count": 58,
     "metadata": {},
     "output_type": "execute_result"
    }
   ],
   "source": [
    "\"¡Hola, mundo!\"[[1,3,4,5,6,14]]"
   ]
  },
  {
   "cell_type": "markdown",
   "id": "2c055637",
   "metadata": {},
   "source": [
    "**Nota** Tal vez hayas observado algo extraño en los índices de la última celda de código: a pesar de que el caracter `'¡' ` corresponde al índice `1` de nuestro `String`, el siguiente caracter (`'H'`) corresponde al índice `3`. ¿Qué sucederá entonces si intentamos acceder al segundo índice?"
   ]
  },
  {
   "cell_type": "code",
   "execution_count": 62,
   "id": "5366242f",
   "metadata": {
    "scrolled": true
   },
   "outputs": [
    {
     "ename": "LoadError",
     "evalue": "StringIndexError: invalid index [2], valid nearby indices [1]=>'¡', [3]=>'H'",
     "output_type": "error",
     "traceback": [
      "StringIndexError: invalid index [2], valid nearby indices [1]=>'¡', [3]=>'H'",
      "",
      "Stacktrace:",
      " [1] string_index_err(s::String, i::Int64)",
      "   @ Base ./strings/string.jl:12",
      " [2] getindex_continued(s::String, i::Int64, u::UInt32)",
      "   @ Base ./strings/string.jl:237",
      " [3] getindex(s::String, i::Int64)",
      "   @ Base ./strings/string.jl:230",
      " [4] top-level scope",
      "   @ In[62]:1"
     ]
    }
   ],
   "source": [
    "\"¡Hola, mundo!\"[2]"
   ]
  },
  {
   "cell_type": "markdown",
   "id": "2abec6e4",
   "metadata": {},
   "source": [
    "Obtenemos un mensaje de error que confirma nuestra sospecha: nos dice que el índice `1` le corresponde a `'¡'`, y el `3`, a `'H'`, además de decirnos implícitamente que el índice `2` es \"inválido\". La explicación de este fenómeno [es un poco técnica](https://docs.julialang.org/en/v1/manual/strings/#Unicode-and-UTF-8) pero, básicamente, un índice de un `String` no se refiere específicamente a un `Char`, sino a una \"unidad de código\" con una cantidad fija de memoria, y para ser almacenados algunos caracteres (como `'¡'`) requieren una cantidad de memoria mayor a la que ofrece una sola unidad de código. \n",
    "\n",
    "En general, observar detalles como éste e investigarlos por nuestra cuenta es una _excelente_ forma de aprender programación, y más aún cuando pensamos en algunas hipótesis y diseñamos pequeños experimentos con código para ponerlas a prueba."
   ]
  },
  {
   "cell_type": "markdown",
   "id": "f18c8235",
   "metadata": {},
   "source": [
    "**Ejercicio** ¿Cuántas palabras puedes formar con las letras de la frase \"¡Hola, mundo!\"? Obten los _Strings_ correspondientes accediendo a subarreglos del `String` `\"¡Hola, mundo!\"`."
   ]
  },
  {
   "cell_type": "code",
   "execution_count": 65,
   "id": "c5d2e15c",
   "metadata": {},
   "outputs": [
    {
     "data": {
      "text/plain": [
       "\"mono\""
      ]
     },
     "execution_count": 65,
     "metadata": {},
     "output_type": "execute_result"
    }
   ],
   "source": [
    "\"¡Hola, mundo!\"[[9,13,11,4]]"
   ]
  },
  {
   "cell_type": "code",
   "execution_count": 66,
   "id": "68df0096",
   "metadata": {},
   "outputs": [
    {
     "data": {
      "text/plain": [
       "\"mudo\""
      ]
     },
     "execution_count": 66,
     "metadata": {},
     "output_type": "execute_result"
    }
   ],
   "source": [
    "\"¡Hola, mundo!\"[[9,10,12,13]]"
   ]
  },
  {
   "cell_type": "code",
   "execution_count": 67,
   "id": "8de1c5c4",
   "metadata": {},
   "outputs": [
    {
     "data": {
      "text/plain": [
       "\"nudo\""
      ]
     },
     "execution_count": 67,
     "metadata": {},
     "output_type": "execute_result"
    }
   ],
   "source": [
    "\"¡Hola, mundo!\"[[9,13,11,4]]"
   ]
  },
  {
   "cell_type": "code",
   "execution_count": 68,
   "id": "2bf75744",
   "metadata": {},
   "outputs": [
    {
     "data": {
      "text/plain": [
       "\"ola\""
      ]
     },
     "execution_count": 68,
     "metadata": {},
     "output_type": "execute_result"
    }
   ],
   "source": [
    "\"¡Hola, mundo!\"[[4,5,6]]"
   ]
  },
  {
   "cell_type": "code",
   "execution_count": 69,
   "id": "beaa250e",
   "metadata": {},
   "outputs": [
    {
     "data": {
      "text/plain": [
       "\"amo\""
      ]
     },
     "execution_count": 69,
     "metadata": {},
     "output_type": "execute_result"
    }
   ],
   "source": [
    "\"¡Hola, mundo!\"[[6,9,4]]"
   ]
  },
  {
   "cell_type": "code",
   "execution_count": 70,
   "id": "4bf2ac2c",
   "metadata": {},
   "outputs": [
    {
     "data": {
      "text/plain": [
       "\"ondo\""
      ]
     },
     "execution_count": 70,
     "metadata": {},
     "output_type": "execute_result"
    }
   ],
   "source": [
    "\"¡Hola, mundo!\"[[4,11,12,13]]"
   ]
  },
  {
   "cell_type": "code",
   "execution_count": 71,
   "id": "037f1feb",
   "metadata": {},
   "outputs": [
    {
     "data": {
      "text/plain": [
       "\"mula\""
      ]
     },
     "execution_count": 71,
     "metadata": {},
     "output_type": "execute_result"
    }
   ],
   "source": [
    "\"¡Hola, mundo!\"[[9,10,5,6]]"
   ]
  },
  {
   "cell_type": "code",
   "execution_count": 72,
   "id": "144f4dfe",
   "metadata": {},
   "outputs": [
    {
     "data": {
      "text/plain": [
       "\"modo\""
      ]
     },
     "execution_count": 72,
     "metadata": {},
     "output_type": "execute_result"
    }
   ],
   "source": [
    "\"¡Hola, mundo!\"[[9,13,12,4]]"
   ]
  },
  {
   "cell_type": "code",
   "execution_count": 73,
   "id": "ecdaad6c",
   "metadata": {},
   "outputs": [
    {
     "data": {
      "text/plain": [
       "\"muda\""
      ]
     },
     "execution_count": 73,
     "metadata": {},
     "output_type": "execute_result"
    }
   ],
   "source": [
    "\"¡Hola, mundo!\"[[9,10,12,6]]"
   ]
  },
  {
   "cell_type": "code",
   "execution_count": 74,
   "id": "f9b0cec1",
   "metadata": {},
   "outputs": [
    {
     "data": {
      "text/plain": [
       "\"duna\""
      ]
     },
     "execution_count": 74,
     "metadata": {},
     "output_type": "execute_result"
    }
   ],
   "source": [
    "\"¡Hola, mundo!\"[[12,10,11,6]]"
   ]
  },
  {
   "cell_type": "code",
   "execution_count": 78,
   "id": "0da693ad",
   "metadata": {},
   "outputs": [
    {
     "data": {
      "text/plain": [
       "\"dona\""
      ]
     },
     "execution_count": 78,
     "metadata": {},
     "output_type": "execute_result"
    }
   ],
   "source": [
    "\"¡Hola, mundo!\"[[12,13,11,6]]"
   ]
  },
  {
   "cell_type": "code",
   "execution_count": 76,
   "id": "e574a31d",
   "metadata": {},
   "outputs": [
    {
     "data": {
      "text/plain": [
       "\"Hada\""
      ]
     },
     "execution_count": 76,
     "metadata": {},
     "output_type": "execute_result"
    }
   ],
   "source": [
    "\"¡Hola, mundo!\"[[3,6,12,6]]"
   ]
  },
  {
   "cell_type": "code",
   "execution_count": 77,
   "id": "bad76baa",
   "metadata": {},
   "outputs": [
    {
     "data": {
      "text/plain": [
       "\"mala\""
      ]
     },
     "execution_count": 77,
     "metadata": {},
     "output_type": "execute_result"
    }
   ],
   "source": [
    "\"¡Hola, mundo!\"[[9,6,5,6]]"
   ]
  },
  {
   "cell_type": "code",
   "execution_count": 80,
   "id": "77a6707f",
   "metadata": {},
   "outputs": [
    {
     "data": {
      "text/plain": [
       "\"llamando\""
      ]
     },
     "execution_count": 80,
     "metadata": {},
     "output_type": "execute_result"
    }
   ],
   "source": [
    "\"¡Hola, mundo!\"[[5,5,6,9,6,11,12,13]]"
   ]
  },
  {
   "cell_type": "code",
   "execution_count": 81,
   "id": "d16eb2c1",
   "metadata": {},
   "outputs": [
    {
     "data": {
      "text/plain": [
       "\"mundano\""
      ]
     },
     "execution_count": 81,
     "metadata": {},
     "output_type": "execute_result"
    }
   ],
   "source": [
    "\"¡Hola, mundo!\"[[9,10,11,12,6,11,13]]"
   ]
  },
  {
   "cell_type": "code",
   "execution_count": 82,
   "id": "88ea0d22",
   "metadata": {},
   "outputs": [
    {
     "data": {
      "text/plain": [
       "\"domo\""
      ]
     },
     "execution_count": 82,
     "metadata": {},
     "output_type": "execute_result"
    }
   ],
   "source": [
    "\"¡Hola, mundo!\"[[12,13,9,4]]"
   ]
  },
  {
   "cell_type": "code",
   "execution_count": 83,
   "id": "d771344c",
   "metadata": {},
   "outputs": [
    {
     "data": {
      "text/plain": [
       "\"moana\""
      ]
     },
     "execution_count": 83,
     "metadata": {},
     "output_type": "execute_result"
    }
   ],
   "source": [
    "\"¡Hola, mundo!\"[[9,13,6,11,6]]"
   ]
  },
  {
   "cell_type": "code",
   "execution_count": 84,
   "id": "ea1d4b73",
   "metadata": {},
   "outputs": [
    {
     "data": {
      "text/plain": [
       "\"lamo\""
      ]
     },
     "execution_count": 84,
     "metadata": {},
     "output_type": "execute_result"
    }
   ],
   "source": [
    "\"¡Hola, mundo!\"[[5,6,9,13]]"
   ]
  },
  {
   "cell_type": "code",
   "execution_count": 85,
   "id": "10c831d5",
   "metadata": {},
   "outputs": [
    {
     "data": {
      "text/plain": [
       "\"mano\""
      ]
     },
     "execution_count": 85,
     "metadata": {},
     "output_type": "execute_result"
    }
   ],
   "source": [
    "\"¡Hola, mundo!\"[[9,6,11,4]]"
   ]
  },
  {
   "cell_type": "code",
   "execution_count": 86,
   "id": "d8801bcd",
   "metadata": {},
   "outputs": [
    {
     "data": {
      "text/plain": [
       "\"lomo\""
      ]
     },
     "execution_count": 86,
     "metadata": {},
     "output_type": "execute_result"
    }
   ],
   "source": [
    "\"¡Hola, mundo!\"[[5,13,9,13]]"
   ]
  },
  {
   "cell_type": "code",
   "execution_count": 87,
   "id": "9e7d17e2",
   "metadata": {},
   "outputs": [
    {
     "data": {
      "text/plain": [
       "\"no\""
      ]
     },
     "execution_count": 87,
     "metadata": {},
     "output_type": "execute_result"
    }
   ],
   "source": [
    "\"¡Hola, mundo!\"[[11,13]]"
   ]
  },
  {
   "cell_type": "code",
   "execution_count": 88,
   "id": "f239df56",
   "metadata": {},
   "outputs": [
    {
     "data": {
      "text/plain": [
       "\"don\""
      ]
     },
     "execution_count": 88,
     "metadata": {},
     "output_type": "execute_result"
    }
   ],
   "source": [
    "\"¡Hola, mundo!\"[[12,13,11]]"
   ]
  },
  {
   "cell_type": "code",
   "execution_count": 89,
   "id": "7d6d7dba",
   "metadata": {},
   "outputs": [
    {
     "data": {
      "text/plain": [
       "\"da\""
      ]
     },
     "execution_count": 89,
     "metadata": {},
     "output_type": "execute_result"
    }
   ],
   "source": [
    "\"¡Hola, mundo!\"[[12,6]]"
   ]
  },
  {
   "cell_type": "markdown",
   "id": "616ffc26",
   "metadata": {},
   "source": [
    "## Recursos complementarios\n",
    "\n",
    "Documentación de Julia:\n",
    "* [Manual de arreglos](https://docs.julialang.org/en/v1/manual/arrays/),\n",
    "* [Manual de `String`s](https://docs.julialang.org/en/v1/manual/strings/),\n",
    "* [Documentación de arreglos](https://docs.julialang.org/en/v1/base/arrays/#Concatenation-and-permutation)."
   ]
  }
 ],
 "metadata": {
  "kernelspec": {
   "display_name": "Julia 1.8.5",
   "language": "julia",
   "name": "julia-1.8"
  },
  "language_info": {
   "file_extension": ".jl",
   "mimetype": "application/julia",
   "name": "julia",
   "version": "1.8.5"
  }
 },
 "nbformat": 4,
 "nbformat_minor": 5
}
